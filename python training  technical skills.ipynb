{
 "cells": [
  {
   "cell_type": "code",
   "execution_count": 7,
   "id": "ea2e7e6c",
   "metadata": {},
   "outputs": [
    {
     "name": "stdout",
     "output_type": "stream",
     "text": [
      "enter a number to check even or odd:9\n",
      "{0} is odd 9\n"
     ]
    }
   ],
   "source": [
    "num=int(input(\"enter a number to check even or odd:\"))\n",
    "def find_Evenodd(num):\n",
    "    if (num%2)==0:\n",
    "        print(\"{0} is even\",format(num))\n",
    "    else:\n",
    "        print(\"{0} is odd\",format(num))\n",
    "find_Evenodd(num)"
   ]
  },
  {
   "cell_type": "code",
   "execution_count": 8,
   "id": "d49b2345",
   "metadata": {},
   "outputs": [
    {
     "name": "stdout",
     "output_type": "stream",
     "text": [
      "enter the yaer2020\n",
      "leap year\n"
     ]
    }
   ],
   "source": [
    "n=int(input(\"enter the yaer\"))\n",
    "leap= lambda y: (y%4==0 and y%100!=0) or y%400==0\n",
    "if leap(n):\n",
    "    print(\"leap year\")\n",
    "else:\n",
    "    print(\"not laep year\")\n",
    "    \n",
    "\n"
   ]
  },
  {
   "cell_type": "code",
   "execution_count": 14,
   "id": "81d50604",
   "metadata": {},
   "outputs": [
    {
     "name": "stdout",
     "output_type": "stream",
     "text": [
      "3.0\n"
     ]
    }
   ],
   "source": [
    "import math\n",
    "x=math.sqrt(9)\n",
    "print(x)"
   ]
  },
  {
   "cell_type": "code",
   "execution_count": 20,
   "id": "d3f95ab6",
   "metadata": {},
   "outputs": [
    {
     "name": "stdout",
     "output_type": "stream",
     "text": [
      "writing file:\n",
      "thanks\n"
     ]
    }
   ],
   "source": [
    "with open(r\"C:\\Users\\HP\\Desktop\\my_file\\How to use EWB.txt\",'w+')as my_file:\n",
    "    content =my_file.write(\"thanks\")\n",
    "with open(r\"C:\\Users\\HP\\Desktop\\my_file\\How to use EWB.txt\",'r')as my_file:\n",
    "    content =my_file.read()\n",
    "    print(\"writing file:\")\n",
    "    print(content)"
   ]
  },
  {
   "cell_type": "code",
   "execution_count": 24,
   "id": "5ffe674c",
   "metadata": {},
   "outputs": [
    {
     "name": "stdout",
     "output_type": "stream",
     "text": [
      "writing file:\n",
      "thanks\n"
     ]
    }
   ],
   "source": [
    "\n",
    "\n",
    "with open(r\"C:\\Users\\HP\\Desktop\\my_file\\How to use EWB.txt\",'r')as my_file:\n",
    "    content =my_file.read()\n",
    "    print(\"writing file:\")\n",
    "    print(content)\n",
    "    my_file.close()"
   ]
  },
  {
   "cell_type": "code",
   "execution_count": 26,
   "id": "2a845d98",
   "metadata": {},
   "outputs": [
    {
     "name": "stdout",
     "output_type": "stream",
     "text": [
      "reading file:\n",
      "thanks\n"
     ]
    }
   ],
   "source": [
    "\n",
    "with open(r\"C:\\Users\\HP\\Desktop\\my_file\\How to use EWB.txt\",'r')as my_file:\n",
    "    content =my_file.read()\n",
    "    print(\"reading file:\")\n",
    "    print(content)\n",
    "    my_file.close()"
   ]
  },
  {
   "cell_type": "code",
   "execution_count": null,
   "id": "6f9cd116",
   "metadata": {},
   "outputs": [],
   "source": [
    "with open(r\"C:\\Users\\HP\\Desktop\\my_file\\How to use EWB.txt\",'w+')as my_file:\n",
    "    content =my_file.write(\"thanks\")"
   ]
  },
  {
   "cell_type": "code",
   "execution_count": 27,
   "id": "c5cdb673",
   "metadata": {},
   "outputs": [
    {
     "name": "stdout",
     "output_type": "stream",
     "text": [
      "Requirement already satisfied: numpy in c:\\users\\hp\\anaconda3\\lib\\site-packages (1.20.1)\n",
      "Note: you may need to restart the kernel to use updated packages.\n"
     ]
    }
   ],
   "source": [
    "pip install numpy"
   ]
  },
  {
   "cell_type": "code",
   "execution_count": 28,
   "id": "8885454d",
   "metadata": {},
   "outputs": [],
   "source": [
    "import numpy as np"
   ]
  },
  {
   "cell_type": "code",
   "execution_count": 29,
   "id": "12a3cbcb",
   "metadata": {},
   "outputs": [
    {
     "name": "stdout",
     "output_type": "stream",
     "text": [
      "[1 2 3]\n"
     ]
    }
   ],
   "source": [
    "one_d_array=np.array([1,2,3,])\n",
    "print(one_d_array)"
   ]
  },
  {
   "cell_type": "code",
   "execution_count": null,
   "id": "17e9dcd2",
   "metadata": {},
   "outputs": [],
   "source": []
  }
 ],
 "metadata": {
  "kernelspec": {
   "display_name": "Python 3",
   "language": "python",
   "name": "python3"
  },
  "language_info": {
   "codemirror_mode": {
    "name": "ipython",
    "version": 3
   },
   "file_extension": ".py",
   "mimetype": "text/x-python",
   "name": "python",
   "nbconvert_exporter": "python",
   "pygments_lexer": "ipython3",
   "version": "3.8.8"
  }
 },
 "nbformat": 4,
 "nbformat_minor": 5
}
